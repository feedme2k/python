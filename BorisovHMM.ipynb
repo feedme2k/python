{
 "cells": [
  {
   "cell_type": "code",
   "execution_count": 1,
   "metadata": {},
   "outputs": [],
   "source": [
    "from copy import copy\n",
    "import numpy as np\n",
    "import random\n",
    "import matplotlib.pyplot as plt\n",
    "import matplotlib\n",
    "#Setting Font Size as 20\n",
    "matplotlib.rcParams.update({'font.size': 20})\n",
    "\n",
    "def forward(trans_prob, emm_prob, observations, states, start_prob):\n",
    "    n = len(observations)\n",
    "    alpha = [None] * n\n",
    "    alpha[0] = copy(start_prob)\n",
    "    for i in range(1, n):\n",
    "        observation = observations[i]\n",
    "        cur_a = {}\n",
    "        prev_a = alpha[i - 1]\n",
    "        for state in states:\n",
    "            trans_sum = sum(prev_a[v] * trans_prob[v].get(state, 0)\n",
    "                            for v in states)\n",
    "            cur_a[state] = trans_sum * emm_prob[state].get(observation, 0)\n",
    "        alpha[i] = cur_a\n",
    "    return alpha\n",
    "\n",
    "\n",
    "def backward(trans_prob, emm_prob, observations, states, end_st):\n",
    "    n = len(observations)\n",
    "    betta = [None] * n\n",
    "    betta[n - 1] = {v: trans_prob[v].get(end_st, 0) for v in states}\n",
    "    for i in range(n - 2, -1, -1):\n",
    "        observation = observations[i]\n",
    "        cur_b = {}\n",
    "        prev_b = betta[i + 1]\n",
    "        for state in states:\n",
    "            cur_b[state] = sum(prev_b[v] * trans_prob[state].get(v, 0) \n",
    "                               * emm_prob[v].get(observation, 0)\n",
    "                               for v in states)\n",
    "        betta[i] = cur_b\n",
    "    return betta\n",
    "\n",
    "\n",
    "def forward_backward(trans_prob, emm_prob, observations, states, start_prob, end_st):\n",
    "    frwrd = forward(trans_prob, emm_prob, observations, states, start_prob)\n",
    "    bcwrd = backward(trans_prob, emm_prob, observations, states, end_st)\n",
    "\n",
    "    norm = sum(frwrd[-1][k] * trans_prob[k][end_st] for k in states)\n",
    "    n = len(observations)\n",
    "    posterior = [None] * n\n",
    "    for i in range(n):\n",
    "        posterior[i] = {\n",
    "            state: frwrd[i][state] * bcwrd[i][state] / norm\n",
    "            for state in states\n",
    "        }\n",
    "\n",
    "    return posterior\n",
    "\n",
    "# Helps visualize the steps of Viterbi.\n",
    "def print_dptable(V):\n",
    "    s = \"    \" + \" \".join((\"%7d\" % i) for i in range(len(V))) + \"\\n\"\n",
    "    for y in V[0]:\n",
    "        s += \"%.5s: \" % y\n",
    "        s += \" \".join(\"%.7s\" % (\"%f\" % v[y]) for v in V)\n",
    "        s += \"\\n\"\n",
    "    print(s)\n",
    "\n",
    "def viterbi(obs, states, start_p, trans_p, emit_p):\n",
    "    V = [{}]\n",
    "    path = {}\n",
    " \n",
    "    # Initialize base cases (t == 0)\n",
    "    for y in states:\n",
    "        V[0][y] = start_p[y] * emit_p[y][obs[0]]\n",
    "        path[y] = [y]\n",
    " \n",
    "    # V = [{y:(start_p[y] * emit_p[y][obs[0]]) for y in states}]\n",
    "    # path = {y:[y] for y in states}\n",
    " \n",
    "    # Run Viterbi for t > 0\n",
    "    for t in range(1, len(obs)):\n",
    "        V.append({})\n",
    "        newpath = {}\n",
    " \n",
    "        for y in states:\n",
    "            (prob, state) = max((V[t-1][y0] * trans_p[y0][y] \n",
    "                                 * emit_p[y][obs[t]], y0) for y0 in states)\n",
    "            V[t][y] = prob\n",
    "            newpath[y] = path[state] + [y]\n",
    " \n",
    "        # Don't need to remember the old paths\n",
    "        path = newpath\n",
    " \n",
    "    print_dptable(V)\n",
    "    (prob, state) = max((V[t][y], y) for y in states)\n",
    "    return (prob, path[state])\n",
    "\n",
    "if __name__ == '__main__':\n",
    "    states = ('p1', 'p2')\n",
    "    end_state = 'E'\n",
    "\n",
    "    observations = ('e1', 'e2', 'e3')\n",
    "\n",
    "    start_probability = {'p1': 0.6, 'p2': 0.4}\n",
    "\n",
    "    transition_probability = {\n",
    "        'p1': {'p1': 0.69, 'p2': 0.3, 'E': 0.01},\n",
    "        'p2': {'p1': 0.4, 'p2': 0.59, 'E': 0.01},\n",
    "    }\n",
    "\n",
    "    emission_probability = {\n",
    "        'p1': {'e1': 0.5, 'e2': 0.4, 'e3': 0.1},\n",
    "        'p2': {'e1': 0.1, 'e2': 0.3, 'e3': 0.6},\n",
    "    }"
   ]
  },
  {
   "cell_type": "code",
   "execution_count": 2,
   "metadata": {},
   "outputs": [
    {
     "name": "stdout",
     "output_type": "stream",
     "text": [
      "          0       1       2\n",
      "p1: 0.30000 0.08280 0.00571\n",
      "p2: 0.04000 0.02700 0.01490\n",
      "\n",
      "(0.014903999999999997, ['p1', 'p1', 'p2'])\n"
     ]
    }
   ],
   "source": [
    "#Viterbi results\n",
    "def viterbi_results():\n",
    "    return viterbi(observations,\n",
    "                    states,\n",
    "                    start_probability,\n",
    "                    transition_probability,\n",
    "                     emission_probability)\n",
    "print(viterbi_results())\n"
   ]
  },
  {
   "cell_type": "code",
   "execution_count": 3,
   "metadata": {},
   "outputs": [
    {
     "name": "stdout",
     "output_type": "stream",
     "text": [
      "{'p1': 0.7694824979123879, 'p2': 0.3501282658903007}\n",
      "{'p1': 0.7902232052179017, 'p2': 0.3954952718409352}\n",
      "{'p1': 0.1959195648739534, 'p2': 0.8040804351260465}\n"
     ]
    }
   ],
   "source": [
    "    #Posterior Decoding Results\n",
    "    posterior = forward_backward(transition_probability,\n",
    "                                 emission_probability,\n",
    "                                 observations,\n",
    "                                 states,\n",
    "                                 start_probability,\n",
    "                                 end_state)\n",
    "\n",
    "    print(*posterior, sep='\\n')"
   ]
  },
  {
   "cell_type": "code",
   "execution_count": 4,
   "metadata": {},
   "outputs": [
    {
     "name": "stdout",
     "output_type": "stream",
     "text": [
      "{'p1': 0.0013637999999999999, 'p2': 0.00093083}\n",
      "{'p1': 0.00366, 'p2': 0.0033699999999999997}\n",
      "{'p1': 0.01, 'p2': 0.01}\n"
     ]
    }
   ],
   "source": [
    "    #Backward Algorithms Results\n",
    "    betta = backward(transition_probability,\n",
    "                             emission_probability,\n",
    "                             observations,\n",
    "                             states,\n",
    "                             end_state)\n",
    "    print(*betta, sep='\\n')"
   ]
  },
  {
   "cell_type": "code",
   "execution_count": 5,
   "metadata": {},
   "outputs": [
    {
     "name": "stdout",
     "output_type": "stream",
     "text": [
      "{'p1': 0.6, 'p2': 0.4}\n",
      "{'p1': 0.22960000000000003, 'p2': 0.1248}\n",
      "{'p1': 0.020834400000000003, 'p2': 0.08550719999999999}\n"
     ]
    }
   ],
   "source": [
    "    #Forward Algorithms Results\n",
    "    alpha = forward(transition_probability,\n",
    "                             emission_probability,\n",
    "                             observations,\n",
    "                             states,\n",
    "                             start_probability)\n",
    "    print(*alpha, sep='\\n')"
   ]
  },
  {
   "cell_type": "code",
   "execution_count": 6,
   "metadata": {},
   "outputs": [],
   "source": [
    "#Hidden Markov Model with hmmlearn set of algorithms\n",
    "import numpy as np\n",
    "from hmmlearn import hmm\n",
    "np.random.seed(42)\n",
    "#Set of parameters\n",
    "model = hmm.GaussianHMM(n_components=3, covariance_type=\"full\")\n",
    "model.startprob_ = np.array([0.6, 0.3, 0.1])\n",
    "model.transmat_ = np.array([[0.7, 0.2, 0.1],\n",
    "                            [0.3, 0.5, 0.2],\n",
    "                            [0.3, 0.3, 0.4]])\n",
    "#Means \n",
    "model.means_ = np.array([[0.0, 0.0], [3.0, -3.0], [5.0, 10.0]])\n",
    "#Covariation\n",
    "model.covars_ = np.tile(np.identity(2), (3, 1, 1))\n",
    "#Samples\n",
    "X, Z = model.sample(1000)\n"
   ]
  },
  {
   "cell_type": "code",
   "execution_count": 7,
   "metadata": {},
   "outputs": [
    {
     "data": {
      "image/png": "[encoded data removed]",
      "text/plain": [
       "<Figure size 432x288 with 1 Axes>"
      ]
     },
     "metadata": {},
     "output_type": "display_data"
    }
   ],
   "source": [
    "#Generated Data\n",
    "plt.plot(np.arange(1000),X,c='black')\n",
    "plt.title('Generated data')\n",
    "\n",
    "plt.show()"
   ]
  },
  {
   "cell_type": "code",
   "execution_count": 8,
   "metadata": {},
   "outputs": [
    {
     "data": {
      "text/plain": [
       "array([0, 0, 0, 0, 0, 0, 0, 0, 0, 0, 0, 1, 2, 0, 0, 0, 0, 2, 0, 2, 1, 0,\n",
       "       2, 2, 2, 0, 0, 0, 0, 0, 1, 1, 1, 1, 0, 2, 2, 2, 2, 1, 0, 0, 0, 0,\n",
       "       0, 0, 0, 0, 0, 0, 0, 0, 1, 1, 2, 1, 2, 1, 1, 0, 0, 0, 2, 2, 2, 2,\n",
       "       1, 1, 2, 2, 1, 1, 1, 2, 2, 1, 1, 1, 1, 1, 1, 1, 2, 2, 0, 0, 0, 0,\n",
       "       0, 0, 2, 0, 0, 0, 0, 0, 0, 0, 0, 0, 0, 2, 0, 0, 0, 0, 1, 2, 0, 2,\n",
       "       0, 2, 2, 1, 1, 1, 2, 0, 1, 2, 2, 2, 0, 2, 0, 0, 0, 0, 2, 0, 0, 0,\n",
       "       2, 2, 0, 1, 1, 1, 2, 2, 2, 0, 0, 0, 1, 1, 1, 2, 0, 1, 1, 0, 0, 0,\n",
       "       0, 2, 1, 0, 2, 0, 0, 0, 0, 1, 2, 2, 0, 0, 0, 0, 0, 0, 0, 0, 2, 0,\n",
       "       0, 2, 2, 2, 0, 0, 0, 0, 0, 2, 0, 0, 0, 0, 0, 1, 1, 0, 1, 0, 0, 0,\n",
       "       0, 0, 0, 0, 0, 1, 1, 1, 0, 2, 2, 1, 2, 2, 2, 2, 0, 0, 0, 2, 2, 1,\n",
       "       1, 1, 1, 2, 2, 2, 2, 0, 0, 1, 1, 2, 1, 1, 1, 2, 2, 2, 0, 1, 0, 0,\n",
       "       0, 0, 2, 2, 0, 1, 1, 0, 0, 0, 0, 0, 2, 0, 0, 2, 2, 0, 0, 1, 1, 1,\n",
       "       0, 0, 1, 0, 0, 2, 2, 1, 2, 2, 0, 0, 0, 0, 0, 2, 2, 1, 0, 0, 0, 2,\n",
       "       2, 2, 0, 0, 1, 1, 0, 0, 0, 0, 0, 0, 1, 2, 1, 1, 2, 0, 0, 1, 1, 0,\n",
       "       0, 0, 2, 1, 1, 0, 0, 2, 1, 2, 2, 2, 1, 2, 2, 1, 1, 1, 1, 1, 2, 1,\n",
       "       0, 1, 1, 0, 1, 1, 2, 2, 0, 0, 0, 1, 0, 0, 0, 1, 2, 0, 2, 0, 2, 2,\n",
       "       2, 0, 0, 0, 0, 0, 0, 2, 2, 2, 2, 2, 2, 0, 0, 2, 2, 1, 2, 0, 2, 2,\n",
       "       2, 1, 0, 0, 2, 2, 1, 1, 1, 2, 2, 1, 1, 2, 2, 2, 1, 2, 1, 0, 0, 0,\n",
       "       0, 0, 0, 0, 0, 1, 0, 2, 2, 0, 0, 0, 0, 0, 0, 0, 0, 0, 2, 2, 2, 2,\n",
       "       1, 0, 0, 0, 0, 0, 0, 0, 0, 2, 1, 1, 2, 2, 2, 0, 0, 0, 0, 0, 1, 1,\n",
       "       1, 1, 1, 2, 2, 0, 0, 0, 0, 0, 0, 1, 0, 0, 0, 0, 0, 0, 0, 1, 0, 0,\n",
       "       0, 0, 0, 2, 2, 2, 2, 2, 1, 1, 2, 2, 0, 1, 2, 2, 2, 0, 1, 2, 2, 2,\n",
       "       0, 0, 0, 1, 2, 2, 2, 2, 0, 0, 0, 0, 0, 0, 0, 2, 2, 1, 1, 1, 0, 0,\n",
       "       0, 0, 0, 0, 0, 0, 0, 0, 1, 1, 0, 0, 0, 0, 2, 1, 1, 1, 0, 1, 1, 1,\n",
       "       2, 2, 2, 2, 1, 1, 2, 0, 1, 0, 1, 1, 2, 0, 2, 2, 2, 2, 0, 0, 2, 2,\n",
       "       2, 0, 1, 2, 0, 0, 0, 0, 0, 2, 2, 0, 0, 0, 2, 0, 0, 0, 0, 0, 0, 0,\n",
       "       2, 2, 2, 0, 2, 0, 0, 0, 0, 0, 0, 0, 0, 0, 2, 2, 2, 2, 2, 2, 2, 2,\n",
       "       2, 1, 0, 0, 0, 0, 1, 0, 0, 0, 0, 2, 2, 1, 2, 0, 0, 0, 0, 2, 2, 2,\n",
       "       0, 2, 2, 0, 2, 2, 2, 2, 2, 0, 2, 1, 1, 0, 0, 0, 2, 2, 2, 1, 0, 0,\n",
       "       2, 2, 2, 2, 2, 2, 2, 2, 2, 2, 0, 0, 0, 0, 2, 0, 0, 0, 0, 0, 1, 2,\n",
       "       0, 0, 0, 0, 0, 0, 0, 2, 1, 0, 0, 0, 0, 2, 2, 2, 1, 2, 2, 0, 2, 0,\n",
       "       0, 0, 0, 0, 0, 0, 0, 1, 1, 2, 2, 1, 0, 1, 2, 2, 1, 2, 2, 2, 2, 2,\n",
       "       1, 1, 2, 0, 2, 2, 1, 1, 1, 1, 1, 1, 0, 0, 0, 0, 0, 0, 0, 0, 2, 0,\n",
       "       2, 0, 0, 1, 2, 2, 2, 1, 2, 2, 1, 2, 0, 0, 2, 0, 2, 0, 2, 1, 2, 2,\n",
       "       0, 0, 0, 0, 1, 2, 2, 1, 2, 2, 0, 0, 2, 0, 0, 2, 2, 2, 1, 2, 2, 0,\n",
       "       0, 1, 1, 2, 2, 1, 1, 0, 0, 0, 0, 0, 0, 0, 0, 0, 0, 0, 0, 0, 1, 2,\n",
       "       0, 0, 2, 2, 2, 2, 0, 0, 0, 0, 0, 0, 1, 1, 1, 2, 0, 0, 1, 2, 0, 1,\n",
       "       1, 0, 0, 0, 2, 2, 0, 0, 0, 0, 0, 2, 2, 0, 2, 2, 2, 2, 0, 0, 0, 0,\n",
       "       2, 1, 2, 2, 2, 2, 1, 0, 0, 2, 2, 1, 0, 2, 2, 0, 0, 0, 0, 0, 0, 0,\n",
       "       0, 1, 0, 2, 2, 2, 2, 0, 0, 0, 2, 0, 1, 2, 2, 0, 0, 0, 0, 0, 2, 2,\n",
       "       2, 0, 0, 0, 1, 1, 0, 2, 2, 2, 1, 2, 2, 2, 2, 2, 2, 0, 2, 0, 0, 0,\n",
       "       0, 0, 0, 2, 1, 1, 0, 0, 0, 0, 0, 0, 0, 0, 0, 0, 2, 0, 0, 0, 0, 2,\n",
       "       0, 0, 2, 2, 2, 1, 2, 2, 2, 1, 0, 0, 2, 0, 0, 0, 2, 2, 2, 0, 1, 1,\n",
       "       1, 1, 2, 2, 0, 0, 2, 0, 0, 0, 0, 2, 0, 0, 0, 2, 1, 2, 1, 0, 2, 2,\n",
       "       2, 2, 2, 2, 1, 2, 2, 2, 1, 1, 0, 0, 0, 0, 0, 2, 0, 0, 0, 0, 2, 2,\n",
       "       1, 2, 1, 1, 0, 0, 0, 2, 0, 0])"
      ]
     },
     "execution_count": 8,
     "metadata": {},
     "output_type": "execute_result"
    }
   ],
   "source": [
    "#Training HMM parameters and inferring the hidden states\n",
    "remodel = hmm.GaussianHMM(n_components=3,covariance_type='full')\n",
    "remodel.fit(X)\n",
    "Z2 = remodel.predict(X)\n",
    "Z2"
   ]
  },
  {
   "cell_type": "code",
   "execution_count": 9,
   "metadata": {},
   "outputs": [],
   "source": [
    "'''\n",
    "Pi : Fair dice is as likely as biased dice\n",
    "\n",
    "A  : The dice thrower likes to keep in one state (fair/biased), \n",
    "and the tranisition from \n",
    "1. Fair-> Fair : .95\n",
    "2. Fair->Biased: 1-.95=.05\n",
    "3. Biased->Biased: .90\n",
    "4. Biased->Biased=1-.90=.10\n",
    "\n",
    "B  : The fair dice is equally likely to produce \n",
    "observations 1 through 6, for the biased dice\n",
    "Pr(6)=0.5 and Pr(1)=Pr(2)=Pr(3)=Pr(4)=Pr(5)=0.1\n",
    "'''\n",
    "pi=np.array([1.0/2,1.0/2])\n",
    "A=np.array([[.95,.05],[.1,.9]])\n",
    "B=np.array([[1.0/6 for i in range(6)],[.1,.1,.1,.1,.1,.5]])"
   ]
  },
  {
   "cell_type": "code",
   "execution_count": 10,
   "metadata": {},
   "outputs": [],
   "source": [
    "'''\n",
    "Returns next state according to weigted probability array.\n",
    "'''\n",
    "def next_state(weights):\n",
    "    choice = random.random() * sum(weights)\n",
    "    for i, w in enumerate(weights):\n",
    "        choice -= w\n",
    "        if choice < 0:\n",
    "            return i"
   ]
  },
  {
   "cell_type": "code",
   "execution_count": 11,
   "metadata": {},
   "outputs": [
    {
     "name": "stdout",
     "output_type": "stream",
     "text": [
      "Expected number of Fair states: 488\n",
      "Expected number of Biased states: 512\n"
     ]
    }
   ],
   "source": [
    "count=0\n",
    "for i in range(1000):\n",
    "    count+=next_state(pi)\n",
    "print (\"Expected number of Fair states:\",1000-count)\n",
    "print (\"Expected number of Biased states:\",count)"
   ]
  },
  {
   "cell_type": "code",
   "execution_count": 12,
   "metadata": {},
   "outputs": [],
   "source": [
    "def create_hidden_sequence(pi,A,length):\n",
    "    out=[None]*length\n",
    "    out[0]=next_state(pi)\n",
    "    for i in range(1,length):\n",
    "        out[i]=next_state(A[out[i-1]])\n",
    "    return out\n",
    "   \n",
    "def create_observation_sequence(hidden_sequence,B):\n",
    "    length=len(hidden_sequence)\n",
    "    out=[None]*length\n",
    "    for i in range(length):\n",
    "        out[i]=next_state(B[hidden_sequence[i]])\n",
    "    return out"
   ]
  },
  {
   "cell_type": "code",
   "execution_count": 13,
   "metadata": {},
   "outputs": [],
   "source": [
    "hidden=np.array(create_hidden_sequence(pi,A,1000))\n",
    "observed=np.array(create_observation_sequence(hidden,B))"
   ]
  },
  {
   "cell_type": "code",
   "execution_count": 14,
   "metadata": {},
   "outputs": [],
   "source": [
    "'''Group all contiguous values in tuple.'''\n",
    "def group(L):\n",
    "    first = last = L[0]\n",
    "    for n in L[1:]:\n",
    "        if n - 1 == last: # Part of the group, bump the end\n",
    "            last = n\n",
    "        else: # Not part of the group, yield current group and start a new\n",
    "            yield first, last\n",
    "            first = last = n\n",
    "    yield first, last # Yield the last group\n",
    "    \n",
    "'''Create tuples of the form (start, number_of_continuous values'''\n",
    "def create_tuple(x):\n",
    "    return [(a,b-a+1) for (a,b) in x]"
   ]
  },
  {
   "cell_type": "code",
   "execution_count": 15,
   "metadata": {},
   "outputs": [],
   "source": [
    "#Tuples of form index value, number of continuous values \n",
    "#corresponding to Fair State\n",
    "indices_hidden_fair=np.where(hidden==0)[0]\n",
    "tuples_contiguous_values_fair=list(group(indices_hidden_fair))\n",
    "tuples_start_break_fair=create_tuple(tuples_contiguous_values_fair)\n",
    "\n",
    "#Tuples of form index value, number of continuous \n",
    "#values corresponding to Biased State\n",
    "indices_hidden_biased=np.where(hidden==1)[0]\n",
    "tuples_contiguous_values_biased=list(group(indices_hidden_biased))\n",
    "tuples_start_break_biased=create_tuple(tuples_contiguous_values_biased)\n",
    "\n",
    "#Tuples for observations\n",
    "observation_tuples=[]\n",
    "for i in range(6):\n",
    "    observation_tuples.append(create_tuple(group(list(np.where(observed==i)[0]))))"
   ]
  },
  {
   "cell_type": "code",
   "execution_count": 16,
   "metadata": {},
   "outputs": [
    {
     "data": {
      "image/png": "[encoded data removed]",
      "text/plain": [
       "<Figure size 1440x720 with 2 Axes>"
      ]
     },
     "metadata": {},
     "output_type": "display_data"
    }
   ],
   "source": [
    "fig, ax = plt.subplots(figsize=(20, 10))\n",
    "plt.subplot(2,1,1)\n",
    "plt.xlim((0,1000));\n",
    "plt.title('Observations');\n",
    "for i in range(6):\n",
    "    plt.broken_barh(observation_tuples[i],(i+0.5,1),facecolor='k');\n",
    "plt.subplot(2,1,2);\n",
    "plt.xlim((0,1000));\n",
    "plt.title('Hidden States Green:Fair, Red: Biased');\n",
    "plt.broken_barh(tuples_start_break_fair,(0,1),facecolor='g');\n",
    "plt.broken_barh(tuples_start_break_biased,(0,1),facecolor='r');"
   ]
  },
  {
   "cell_type": "code",
   "execution_count": null,
   "metadata": {},
   "outputs": [],
   "source": []
  }
 ],
 "metadata": {
  "kernelspec": {
   "display_name": "Python 3",
   "language": "python",
   "name": "python3"
  },
  "language_info": {
   "codemirror_mode": {
    "name": "ipython",
    "version": 3
   },
   "file_extension": ".py",
   "mimetype": "text/x-python",
   "name": "python",
   "nbconvert_exporter": "python",
   "pygments_lexer": "ipython3",
   "version": "3.6.5"
  }
 },
 "nbformat": 4,
 "nbformat_minor": 2
}
